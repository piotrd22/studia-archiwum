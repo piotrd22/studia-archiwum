{
 "cells": [
  {
   "cell_type": "code",
   "execution_count": 43,
   "metadata": {},
   "outputs": [],
   "source": [
    "import pygad\n",
    "import time\n",
    "import numpy"
   ]
  },
  {
   "cell_type": "code",
   "execution_count": 44,
   "metadata": {},
   "outputs": [],
   "source": [
    "items = [{'przedmiot': 'zegar', 'wartosc': 100, 'waga': 7},\n",
    "         {'przedmiot': 'obraz-pejzaż', 'wartosc': 300, 'waga': 7},\n",
    "         {'przedmiot': 'obraz-portret', 'wartosc': 200, 'waga': 6},\n",
    "         {'przedmiot': 'radio', 'wartosc': 40, 'waga': 2},\n",
    "         {'przedmiot': 'laptop', 'wartosc': 500, 'waga': 5},\n",
    "         {'przedmiot': 'lampka nocna', 'wartosc': 70, 'waga': 6},\n",
    "         {'przedmiot': 'srebrne sztućce', 'wartosc': 100, 'waga': 1},\n",
    "         {'przedmiot': 'porcelana', 'wartosc': 250, 'waga': 3},\n",
    "         {'przedmiot': 'figura z brązu', 'wartosc': 300, 'waga': 10},\n",
    "         {'przedmiot': 'skórzana torebka', 'wartosc': 280, 'waga': 3},\n",
    "         {'przedmiot': 'odkurzacz', 'wartosc': 300, 'waga': 15}] "
   ]
  },
  {
   "cell_type": "code",
   "execution_count": 45,
   "metadata": {},
   "outputs": [],
   "source": [
    "gene_space = [0, 1]\n",
    "\n",
    "def fitness_func(solution, solution_idx):\n",
    "    wagi, wartosci = [], []\n",
    "    \n",
    "    for item in items:\n",
    "        wagi.append(item[\"waga\"])\n",
    "        wartosci.append(item[\"wartosc\"])\n",
    "        \n",
    "    suma_wagi = numpy.sum(solution * wagi)\n",
    "    suma_wartosci = numpy.sum(solution * wartosci)\n",
    "\n",
    "    if (suma_wagi > 25):\n",
    "        return 0\n",
    "    \n",
    "    fitness = suma_wartosci\n",
    "    return fitness\n",
    "\n",
    "\n",
    "fitness_function = fitness_func"
   ]
  },
  {
   "cell_type": "code",
   "execution_count": 46,
   "metadata": {},
   "outputs": [],
   "source": [
    "sol_per_pop = 10\n",
    "num_genes = len(items)"
   ]
  },
  {
   "cell_type": "code",
   "execution_count": 47,
   "metadata": {},
   "outputs": [],
   "source": [
    "num_parents_mating = 5\n",
    "num_generations = 30\n",
    "keep_parents = 2\n",
    "\n",
    "parent_selection_type = \"sss\"\n",
    "\n",
    "crossover_type = \"single_point\"\n",
    "\n",
    "mutation_type = \"random\"\n",
    "mutation_percent_genes = 8"
   ]
  },
  {
   "cell_type": "code",
   "execution_count": 48,
   "metadata": {},
   "outputs": [
    {
     "name": "stdout",
     "output_type": "stream",
     "text": [
      "[25, 30, 3, 5, 6, 11, 30, 10, 3, 8]\n",
      "[0.07206130027770996, 0.0701441764831543, 0.007986068725585938, 0.011555671691894531, 0.017678499221801758, 0.020458459854125977, 0.07546734809875488, 0.024882793426513672, 0.009981870651245117, 0.03264045715332031]\n",
      "Average time:  0.034285664558410645\n",
      "Average number of generations  13.1\n"
     ]
    }
   ],
   "source": [
    "times = []\n",
    "generations = []\n",
    "for i in range(10):\n",
    "    start = time.time()\n",
    "    ga_instance = pygad.GA(gene_space=gene_space,\n",
    "                        num_generations=num_generations,\n",
    "                        num_parents_mating=num_parents_mating,\n",
    "                        fitness_func=fitness_function,\n",
    "                        sol_per_pop=sol_per_pop,\n",
    "                        num_genes=num_genes,\n",
    "                        parent_selection_type=parent_selection_type,\n",
    "                        keep_parents=keep_parents,\n",
    "                        crossover_type=crossover_type,\n",
    "                        mutation_type=mutation_type,\n",
    "                        mutation_percent_genes=mutation_percent_genes,\n",
    "                        stop_criteria=[\"reach_1600\"])\n",
    "    ga_instance.run()\n",
    "    end = time.time()\n",
    "    times.append(end - start)\n",
    "    generations.append(ga_instance.generations_completed)\n",
    "\n",
    "print(generations)\n",
    "print(times)\n",
    "\n",
    "average_time = 0\n",
    "for time in times:\n",
    "    average_time += time\n",
    "average_time = average_time / len(times)\n",
    "print(\"Average time: \", average_time)\n",
    "\n",
    "average_gen = 0\n",
    "for gen in generations:\n",
    "    average_gen += gen\n",
    "average_gen = average_gen / len(generations)\n",
    "print(\"Average number of generations \", average_gen)\n"
   ]
  }
 ],
 "metadata": {
  "kernelspec": {
   "display_name": "Python 3",
   "language": "python",
   "name": "python3"
  },
  "language_info": {
   "codemirror_mode": {
    "name": "ipython",
    "version": 3
   },
   "file_extension": ".py",
   "mimetype": "text/x-python",
   "name": "python",
   "nbconvert_exporter": "python",
   "pygments_lexer": "ipython3",
   "version": "3.9.6"
  },
  "orig_nbformat": 4
 },
 "nbformat": 4,
 "nbformat_minor": 2
}
