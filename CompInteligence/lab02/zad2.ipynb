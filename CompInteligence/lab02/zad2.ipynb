{
 "cells": [
  {
   "cell_type": "code",
   "execution_count": 49,
   "metadata": {},
   "outputs": [],
   "source": [
    "import pygad\n",
    "import time\n",
    "import numpy"
   ]
  },
  {
   "cell_type": "code",
   "execution_count": 50,
   "metadata": {},
   "outputs": [],
   "source": [
    "items = [{'przedmiot': 'zegar', 'wartosc': 100, 'waga': 7},\n",
    "         {'przedmiot': 'obraz-pejzaż', 'wartosc': 300, 'waga': 7},\n",
    "         {'przedmiot': 'obraz-portret', 'wartosc': 200, 'waga': 6},\n",
    "         {'przedmiot': 'radio', 'wartosc': 40, 'waga': 2},\n",
    "         {'przedmiot': 'laptop', 'wartosc': 500, 'waga': 5},\n",
    "         {'przedmiot': 'lampka nocna', 'wartosc': 70, 'waga': 6},\n",
    "         {'przedmiot': 'srebrne sztućce', 'wartosc': 100, 'waga': 1},\n",
    "         {'przedmiot': 'porcelana', 'wartosc': 250, 'waga': 3},\n",
    "         {'przedmiot': 'figura z brązu', 'wartosc': 300, 'waga': 10},\n",
    "         {'przedmiot': 'skórzana torebka', 'wartosc': 280, 'waga': 3},\n",
    "         {'przedmiot': 'odkurzacz', 'wartosc': 300, 'waga': 15}] "
   ]
  },
  {
   "cell_type": "code",
   "execution_count": 51,
   "metadata": {},
   "outputs": [],
   "source": [
    "gene_space = [0, 1]\n",
    "\n",
    "def fitness_func(solution, solution_idx):\n",
    "    wagi, wartosci = [], []\n",
    "    \n",
    "    for item in items:\n",
    "        wagi.append(item[\"waga\"])\n",
    "        wartosci.append(item[\"wartosc\"])\n",
    "        \n",
    "    suma_wagi = numpy.sum(solution * wagi)\n",
    "    suma_wartosci = numpy.sum(solution * wartosci)\n",
    "\n",
    "    if (suma_wagi > 25):\n",
    "        return 0\n",
    "    \n",
    "    fitness = suma_wartosci\n",
    "    return fitness\n",
    "\n",
    "\n",
    "fitness_function = fitness_func"
   ]
  },
  {
   "cell_type": "code",
   "execution_count": 52,
   "metadata": {},
   "outputs": [],
   "source": [
    "sol_per_pop = 10\n",
    "num_genes = len(items)"
   ]
  },
  {
   "cell_type": "code",
   "execution_count": 53,
   "metadata": {},
   "outputs": [],
   "source": [
    "# ile wylaniamy rodzicow do \"rozmanazania\" (okolo 50% populacji)\n",
    "# ile pokolen\n",
    "# ilu rodzicow zachowac (kilka procent)\n",
    "num_parents_mating = 5\n",
    "num_generations = 30\n",
    "keep_parents = 2\n",
    "\n",
    "# jaki typ selekcji rodzicow?\n",
    "#sss = steady, rws=roulette, rank = rankingowa, tournament = turniejowa\n",
    "parent_selection_type = \"sss\"\n",
    "\n",
    "# w il =u punktach robic krzyzowanie?\n",
    "crossover_type = \"single_point\"\n",
    "\n",
    "# mutacja ma dzialac na ilu procent genow?\n",
    "# trzeba pamietac ile genow ma chromosom\n",
    "mutation_type = \"random\"\n",
    "mutation_percent_genes = 8"
   ]
  },
  {
   "cell_type": "code",
   "execution_count": 54,
   "metadata": {},
   "outputs": [
    {
     "name": "stdout",
     "output_type": "stream",
     "text": [
      "[19, 11, 5, 30, 14, 8, 23, 5, 9, 16]\n",
      "[0.06693220138549805, 0.02864384651184082, 0.014020204544067383, 0.04428291320800781, 0.016488313674926758, 0.011182546615600586, 0.024760723114013672, 0.005135297775268555, 0.007119417190551758, 0.013482093811035156]\n",
      "Average time:  0.023204755783081055\n",
      "Average number of generations  14.0\n"
     ]
    }
   ],
   "source": [
    "times = []\n",
    "generations = []\n",
    "for i in range(10):\n",
    "    start = time.time()\n",
    "    ga_instance = pygad.GA(gene_space=gene_space,\n",
    "                        num_generations=num_generations,\n",
    "                        num_parents_mating=num_parents_mating,\n",
    "                        fitness_func=fitness_function,\n",
    "                        sol_per_pop=sol_per_pop,\n",
    "                        num_genes=num_genes,\n",
    "                        parent_selection_type=parent_selection_type,\n",
    "                        keep_parents=keep_parents,\n",
    "                        crossover_type=crossover_type,\n",
    "                        mutation_type=mutation_type,\n",
    "                        mutation_percent_genes=mutation_percent_genes,\n",
    "                        stop_criteria=[\"reach_1600\"])\n",
    "    ga_instance.run()\n",
    "    end = time.time()\n",
    "    times.append(end - start)\n",
    "    generations.append(ga_instance.generations_completed)\n",
    "\n",
    "print(generations)\n",
    "print(times)\n",
    "\n",
    "average_time = 0\n",
    "for time in times:\n",
    "    average_time += time\n",
    "average_time = average_time / len(times)\n",
    "print(\"Average time: \", average_time)\n",
    "\n",
    "average_gen = 0\n",
    "for gen in generations:\n",
    "    average_gen += gen\n",
    "average_gen = average_gen / len(generations)\n",
    "print(\"Average number of generations \", average_gen)\n"
   ]
  }
 ],
 "metadata": {
  "kernelspec": {
   "display_name": "Python 3",
   "language": "python",
   "name": "python3"
  },
  "language_info": {
   "codemirror_mode": {
    "name": "ipython",
    "version": 3
   },
   "file_extension": ".py",
   "mimetype": "text/x-python",
   "name": "python",
   "nbconvert_exporter": "python",
   "pygments_lexer": "ipython3",
   "version": "3.9.6"
  },
  "orig_nbformat": 4
 },
 "nbformat": 4,
 "nbformat_minor": 2
}
